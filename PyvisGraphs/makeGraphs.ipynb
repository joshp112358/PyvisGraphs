{
 "cells": [
  {
   "cell_type": "code",
   "execution_count": 5,
   "metadata": {},
   "outputs": [
    {
     "data": {
      "text/plain": [
       "[[0, 0, 1, 0, 0],\n",
       " [1, 0, 0, 0, 0],\n",
       " [0, 1, 0, 1, 0],\n",
       " [0, 0, 1, 0, 1],\n",
       " [0, 1, 0, 1, 0]]"
      ]
     },
     "execution_count": 5,
     "metadata": {},
     "output_type": "execute_result"
    }
   ],
   "source": [
    "# imports\n",
    "import networkx as nx\n",
    "import matplotlib.pyplot as plt\n",
    "import pyvis as pv\n",
    "import pandas as pd\n",
    "import numpy as np\n",
    "from pyvis.network import Network\n",
    "\n",
    "# import dataset\n",
    "%run -i 'sA_matrices.py'\n",
    "\n",
    "# display random sA\n",
    "np.random.seed(24)\n",
    "rng = np.random.choice(range(9608))\n",
    "sA[rng]"
   ]
  },
  {
   "cell_type": "code",
   "execution_count": 6,
   "metadata": {
    "scrolled": true
   },
   "outputs": [
    {
     "name": "stdout",
     "output_type": "stream",
     "text": [
      "0\n"
     ]
    },
    {
     "data": {
      "text/html": [
       "\n",
       "        <iframe\n",
       "            width=\"500px\"\n",
       "            height=\"500px\"\n",
       "            src=\"Graph149.html\"\n",
       "            frameborder=\"0\"\n",
       "            allowfullscreen\n",
       "        ></iframe>\n",
       "        "
      ],
      "text/plain": [
       "<IPython.lib.display.IFrame at 0x7fb2bb94a880>"
      ]
     },
     "execution_count": 6,
     "metadata": {},
     "output_type": "execute_result"
    }
   ],
   "source": [
    "def draw_n5_graph(n):\n",
    "    n = n-1 #python peculiarity\n",
    "    A = np.array(sA[n]) \n",
    "    g = Network(notebook = True)\n",
    "    g.toggle_physics(status=False)\n",
    "    g.add_nodes([0,1,2,3,4], #node ids\n",
    "                size = [5,5,5,5,5],\n",
    "                \n",
    "                #title=[\"1\", \"2\", \"3\", \"4\", \"5\"], # hover\n",
    "                label=[\"1\", \"2\", \"3\", \"4\", \"5\"], #name\n",
    "                color=[\"rgb(0,128,179.2)\", \"rgb(38.4,153.6,0)\", \"rgb(128,128,128)\", \"rgb(204.8,140.8, 0)\", \"rgb(204.8.0.0)\"]) \n",
    "    \n",
    "    count = 0\n",
    "    for i in range(len(A)):\n",
    "        for j in range(len(A)):\n",
    "            if A[i][j] == 1:\n",
    "                if A[j][i] == 1:\n",
    "                    g.add_edge(j,i, arrows = \"to;from\", color = \"black\")\n",
    "                else:\n",
    "                    g.add_edge(j,i, arrows = \"to\", color = \"black\")\n",
    "    print(count)\n",
    "    return g.show((\"Graph\" + \"%d\"+\".html\") % (n+1))\n",
    "    \n",
    "\n",
    "draw_n5_graph(149)"
   ]
  },
  {
   "cell_type": "code",
   "execution_count": 7,
   "metadata": {},
   "outputs": [
    {
     "name": "stdout",
     "output_type": "stream",
     "text": [
      "0\n"
     ]
    },
    {
     "data": {
      "text/html": [
       "\n",
       "        <iframe\n",
       "            width=\"500px\"\n",
       "            height=\"500px\"\n",
       "            src=\"Graph329.html\"\n",
       "            frameborder=\"0\"\n",
       "            allowfullscreen\n",
       "        ></iframe>\n",
       "        "
      ],
      "text/plain": [
       "<IPython.lib.display.IFrame at 0x7fb2b9c17d60>"
      ]
     },
     "execution_count": 7,
     "metadata": {},
     "output_type": "execute_result"
    }
   ],
   "source": [
    "draw_n5_graph(329)"
   ]
  },
  {
   "cell_type": "code",
   "execution_count": null,
   "metadata": {},
   "outputs": [],
   "source": []
  }
 ],
 "metadata": {
  "kernelspec": {
   "display_name": "Python 3",
   "language": "python",
   "name": "python3"
  },
  "language_info": {
   "codemirror_mode": {
    "name": "ipython",
    "version": 3
   },
   "file_extension": ".py",
   "mimetype": "text/x-python",
   "name": "python",
   "nbconvert_exporter": "python",
   "pygments_lexer": "ipython3",
   "version": "3.8.3"
  }
 },
 "nbformat": 4,
 "nbformat_minor": 4
}
